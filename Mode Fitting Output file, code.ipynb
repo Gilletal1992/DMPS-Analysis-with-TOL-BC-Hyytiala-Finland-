{
 "cells": [
  {
   "cell_type": "code",
   "execution_count": 2,
   "id": "35c166c0",
   "metadata": {},
   "outputs": [
    {
     "name": "stdout",
     "output_type": "stream",
     "text": [
      "init Main\n",
      "Jan-Dec 2017-2022\n",
      "no. of tasks,  90\n"
     ]
    },
    {
     "name": "stderr",
     "output_type": "stream",
     "text": [
      "[Parallel(n_jobs=-2)]: Using backend MultiprocessingBackend with 7 concurrent workers.\n",
      "[Parallel(n_jobs=-2)]: Done  18 tasks      | elapsed:   42.7s\n"
     ]
    },
    {
     "name": "stdout",
     "output_type": "stream",
     "text": [
      "                    m1_A       m1_d   m1_s     m2_A       m2_d   m2_s  \\\n",
      "Timestamp (UTC)                                                         \n",
      "8                1608.50  19.000000  1.438  1586.85  40.528090  1.510   \n",
      "9                    NaN        NaN  1.700  1606.90  37.760000  1.530   \n",
      "10               1572.08  19.000000  1.800   851.96  40.202247  1.438   \n",
      "11               1465.20  15.440000  1.740  1787.70  38.130000  1.507   \n",
      "12               1929.03  18.448276  1.800  1150.53  43.134831  1.438   \n",
      "...                  ...        ...    ...      ...        ...    ...   \n",
      "92                   NaN        NaN  1.620   428.00  28.390000  1.953   \n",
      "93                   NaN        NaN  1.403   514.50  27.110000  1.541   \n",
      "94               1047.59  15.137931  1.583   722.57  38.573034  1.438   \n",
      "95                   NaN        NaN  1.486   357.41  18.462185  1.679   \n",
      "96                   NaN        NaN  1.820  1130.10  50.320000  1.980   \n",
      "\n",
      "                    m3_A       m3_d   m3_s    m4_A        m4_d   m4_s     R2  \\\n",
      "Timestamp (UTC)                                                                \n",
      "8                 258.35  94.000000  1.390  294.13  172.240803  1.438  0.982   \n",
      "9                 107.30  94.000000  1.311  291.20  166.220000  1.422  0.991   \n",
      "10                272.40  93.704698  1.366  216.90  176.254181  1.414  0.987   \n",
      "11                240.50  98.700000  1.476  264.80  170.230000  1.430  0.988   \n",
      "12                194.31  94.000000  1.269  299.59  166.220736  1.414  0.987   \n",
      "...                  ...        ...    ...     ...         ...    ...    ...   \n",
      "92               1761.00  72.190000  1.847  849.60  183.280000  1.478  0.971   \n",
      "93               1693.50  82.780000  1.810  598.90  173.240000  1.398  0.969   \n",
      "94                439.90  89.865772  1.366  554.11  205.351171  1.462  0.964   \n",
      "95               1288.12  94.000000  1.631  638.85  225.418060  1.510  0.983   \n",
      "96                497.90  88.460000  1.320  739.90  181.270000  1.454  0.985   \n",
      "\n",
      "                   PE  flag  \n",
      "Timestamp (UTC)              \n",
      "8                1.80   NaN  \n",
      "9                0.40   NaN  \n",
      "10               1.00   NaN  \n",
      "11               3.29   NaN  \n",
      "12               0.70   NaN  \n",
      "...               ...   ...  \n",
      "92               1.57   NaN  \n",
      "93               2.43   NaN  \n",
      "94               3.10   NaN  \n",
      "95               3.90   NaN  \n",
      "96               0.77   NaN  \n",
      "\n",
      "[89 rows x 15 columns]\n",
      "\n",
      "********* FINISHED *********\n",
      "Total time taken: 0:03:11.213217\n",
      "****************************\n",
      "\n"
     ]
    },
    {
     "name": "stderr",
     "output_type": "stream",
     "text": [
      "[Parallel(n_jobs=-2)]: Done  89 out of  89 | elapsed:  3.2min finished\n"
     ]
    }
   ],
   "source": [
    "# 31 Oct 2024 (Mode Fitting Output file) Gabbies and Nesrine code (Orignal Gabis and Nesrine code modified here fr my data actualy first of all tge output file is making by this code and then use it for Mode fitting)\n",
    "\n",
    "\n",
    "# -*- coding: utf-8 -*-\n",
    "\"\"\"\n",
    "Created on Mon Mar 11 13:07:31 2024\n",
    "\n",
    "@author: unfer\n",
    "\"\"\"\n",
    "\n",
    "import numpy as np\n",
    "import pandas as pd\n",
    "from datetime import datetime, timedelta ###CHANGE added timedelta\n",
    "from lognormal_fit_multiprocessing_unfer_modified_TOL import Main as logf ###CHANGE lognormal_fit_multiprocessing_unfer -> lognormal_fit_multiprocessing_unfer_modified\n",
    "from multiprocessing import Process\n",
    "\n",
    "path1 = r\"/Users/touqeergill/Desktop/1-Sectors Data.csv\"\n",
    "dados1 = pd.read_csv(path1, sep=',',engine='python') \n",
    "df1 = pd.DataFrame(dados1)\n",
    "diameters_str = list(df1.columns[1:]) ### save diameters before replacing them with new column names\n",
    "\n",
    "df1.index = df1['TimeOverLandBin']\n",
    "df1 = df1.drop(['TimeOverLandBin'], axis=1)\n",
    "\n",
    "df1.columns = pd.to_numeric(diameters_str) ### df1.columns -> diameters_str\n",
    "df1.columns = df1.columns * 10 ** 9 ### change units from m to nm\n",
    "\n",
    "### limit diameter\n",
    "df1[df1.columns[df1.columns < 6]] = np.nan ### diameters <6nm to nan values\n",
    "#df1.dropna(axis=1, inplace=True) ### drop columns with diameters <6nm\n",
    "df1.drop(df1.columns[[0,1,2,3]], axis=1, inplace=True)\n",
    "\n",
    "#####################################################################\n",
    "\n",
    "\n",
    "year = \"2017-2022\"\n",
    "month = \"Jan-Dec\"\n",
    "dataframe = df1\n",
    "main_instance = logf(dataframe, year, month)\n",
    "        \n"
   ]
  },
  {
   "cell_type": "code",
   "execution_count": 3,
   "id": "21f1185e",
   "metadata": {},
   "outputs": [
    {
     "name": "stdout",
     "output_type": "stream",
     "text": [
      "init Main\n",
      "Jan-Dec 2017-2022\n",
      "no. of tasks,  89\n"
     ]
    },
    {
     "name": "stderr",
     "output_type": "stream",
     "text": [
      "[Parallel(n_jobs=-2)]: Using backend MultiprocessingBackend with 7 concurrent workers.\n",
      "[Parallel(n_jobs=-2)]: Done  18 tasks      | elapsed:   49.3s\n"
     ]
    },
    {
     "name": "stdout",
     "output_type": "stream",
     "text": [
      "                   m1_A   m1_d   m1_s    m2_A   m2_d   m2_s    m3_A   m3_d  \\\n",
      "Timestamp (UTC)                                                              \n",
      "8                   NaN    NaN  1.717   162.6  34.19  1.251  1345.1  69.29   \n",
      "9                   NaN    NaN  1.620  2549.4  33.84  1.980   781.9  68.82   \n",
      "10               1648.7  10.72  1.478   684.6  31.61  1.350  2898.4  90.46   \n",
      "11               1313.0  20.29  1.860  2755.3  38.79  1.821  1297.7  85.93   \n",
      "12               1386.2  14.16  1.773  2743.7  46.73  1.927  1229.9  94.00   \n",
      "...                 ...    ...    ...     ...    ...    ...     ...    ...   \n",
      "91                  NaN    NaN  1.860  1306.5  51.03  1.661   422.9  94.00   \n",
      "92                  NaN    NaN  1.722  1268.1  42.79  1.589   512.1  89.30   \n",
      "93                  NaN    NaN  1.620   388.9  24.14  1.649  1223.2  75.55   \n",
      "94                  NaN    NaN  1.490   323.8  29.24  1.503  1195.6  68.26   \n",
      "95                  NaN    NaN  1.553   800.1  41.71  1.553     0.0  73.17   \n",
      "\n",
      "                  m3_s    m4_A    m4_d   m4_s     R2    PE  flag  \n",
      "Timestamp (UTC)                                                   \n",
      "8                1.696  1852.7  174.53  1.413  0.986  3.58   NaN  \n",
      "9                1.358   933.1  185.28  1.405  0.943  4.13   NaN  \n",
      "10               1.613   572.9  175.25  1.398  0.998  0.87   NaN  \n",
      "11               1.413   718.8  189.30  1.381  0.986  0.90   NaN  \n",
      "12               1.576   402.0  200.33  1.374  0.983  5.27   NaN  \n",
      "...                ...     ...     ...    ...    ...   ...   ...  \n",
      "91               1.356   808.3  185.28  1.454  0.992  1.84   NaN  \n",
      "92               1.350   743.3  189.30  1.422  0.981  1.33   NaN  \n",
      "93               1.824   718.4  206.35  1.478  0.976  5.29   NaN  \n",
      "94               1.758   757.6  197.32  1.470  0.970  4.52   NaN  \n",
      "95               1.229   640.0  191.30  1.454  0.980  2.29   NaN  \n",
      "\n",
      "[88 rows x 15 columns]\n",
      "\n",
      "********* FINISHED *********\n",
      "Total time taken: 0:04:07.315669\n",
      "****************************\n",
      "\n"
     ]
    },
    {
     "name": "stderr",
     "output_type": "stream",
     "text": [
      "[Parallel(n_jobs=-2)]: Done  88 out of  88 | elapsed:  4.1min finished\n"
     ]
    }
   ],
   "source": [
    "# -*- coding: utf-8 -*-\n",
    "\"\"\"\n",
    "Created on Mon Mar 11 13:07:31 2024\n",
    "\n",
    "@author: unfer\n",
    "\"\"\"\n",
    "\n",
    "import numpy as np\n",
    "import pandas as pd\n",
    "from datetime import datetime, timedelta ###CHANGE added timedelta\n",
    "from lognormal_fit_multiprocessing_unfer_modified_TOL import Main as logf ###CHANGE lognormal_fit_multiprocessing_unfer -> lognormal_fit_multiprocessing_unfer_modified\n",
    "from multiprocessing import Process\n",
    "\n",
    "path1 = r\"/Users/touqeergill/Desktop/2-Sectors Data.csv\"\n",
    "dados1 = pd.read_csv(path1, sep=',',engine='python') \n",
    "df1 = pd.DataFrame(dados1)\n",
    "diameters_str = list(df1.columns[1:]) ### save diameters before replacing them with new column names\n",
    "\n",
    "df1.index = df1['TimeOverLandBin']\n",
    "df1 = df1.drop(['TimeOverLandBin'], axis=1)\n",
    "\n",
    "df1.columns = pd.to_numeric(diameters_str) ### df1.columns -> diameters_str\n",
    "df1.columns = df1.columns * 10 ** 9 ### change units from m to nm\n",
    "\n",
    "### limit diameter\n",
    "df1[df1.columns[df1.columns < 6]] = np.nan ### diameters <6nm to nan values\n",
    "#df1.dropna(axis=1, inplace=True) ### drop columns with diameters <6nm\n",
    "df1.drop(df1.columns[[0,1,2,3]], axis=1, inplace=True)\n",
    "\n",
    "#####################################################################\n",
    "\n",
    "\n",
    "year = \"2017-2022\"\n",
    "month = \"Jan-Dec\"\n",
    "dataframe = df1\n",
    "main_instance = logf(dataframe, year, month)\n",
    "        \n"
   ]
  },
  {
   "cell_type": "code",
   "execution_count": 6,
   "id": "e21d9994",
   "metadata": {},
   "outputs": [
    {
     "name": "stdout",
     "output_type": "stream",
     "text": [
      "init Main\n",
      "Jan-Dec 2017-2022\n",
      "no. of tasks,  73\n"
     ]
    },
    {
     "name": "stderr",
     "output_type": "stream",
     "text": [
      "[Parallel(n_jobs=-2)]: Using backend MultiprocessingBackend with 7 concurrent workers.\n",
      "[Parallel(n_jobs=-2)]: Done  18 tasks      | elapsed:   47.4s\n"
     ]
    },
    {
     "name": "stdout",
     "output_type": "stream",
     "text": [
      "                 m1_A  m1_d   m1_s     m2_A       m2_d   m2_s     m3_A  \\\n",
      "Timestamp (UTC)                                                          \n",
      "24                NaN   NaN  1.207   438.40  30.090000  1.494   505.40   \n",
      "26                NaN   NaN  1.366  1726.25  49.000000  1.462  1379.54   \n",
      "27                NaN   NaN  1.100   326.00  24.561798  1.390  2332.76   \n",
      "28                NaN   NaN  1.297  1394.70  46.730000  1.940     0.00   \n",
      "29                NaN   NaN  1.800   170.24  31.218487  1.510   788.99   \n",
      "...               ...   ...    ...      ...        ...    ...      ...   \n",
      "92                NaN   NaN  1.728   587.57  23.873950  1.583  2170.50   \n",
      "93                NaN   NaN  1.631   608.13  23.487395  1.607  1620.93   \n",
      "94                NaN   NaN  1.860  1410.70  50.670000  1.747   444.00   \n",
      "95                NaN   NaN  1.740  1140.00  48.170000  1.553   361.70   \n",
      "96                NaN   NaN  1.860  1272.60  50.420000  1.600   374.10   \n",
      "\n",
      "                      m3_d   m3_s     m4_A        m4_d   m4_s     R2     PE  \\\n",
      "Timestamp (UTC)                                                               \n",
      "24               73.030000  1.231  2006.00  177.260000  1.552  0.985   1.62   \n",
      "26               94.000000  1.438  1484.35  200.334448  1.438  0.974   5.90   \n",
      "27               91.046980  1.631  1273.39  206.354515  1.390  0.997   1.00   \n",
      "28               84.600000  1.186  1377.40  176.690000  1.492  0.874  10.69   \n",
      "29               94.000000  1.414   498.45  197.324415  1.366  0.945   9.10   \n",
      "...                    ...    ...      ...         ...    ...    ...    ...   \n",
      "92               81.302013  1.607   940.32  190.301003  1.438  0.972   6.00   \n",
      "93               76.872483  1.607   928.33  187.290970  1.462  0.952   6.70   \n",
      "94               94.000000  1.356   877.90  187.290000  1.454  0.990   2.24   \n",
      "95               94.000000  1.307   883.00  180.270000  1.422  0.989   0.73   \n",
      "96               98.700000  1.394   829.20  182.270000  1.446  0.993   2.43   \n",
      "\n",
      "                 flag  \n",
      "Timestamp (UTC)        \n",
      "24                NaN  \n",
      "26                NaN  \n",
      "27                NaN  \n",
      "28                NaN  \n",
      "29                NaN  \n",
      "...               ...  \n",
      "92                NaN  \n",
      "93                NaN  \n",
      "94                NaN  \n",
      "95                NaN  \n",
      "96                NaN  \n",
      "\n",
      "[72 rows x 15 columns]\n",
      "\n",
      "********* FINISHED *********\n",
      "Total time taken: 0:03:06.683709\n",
      "****************************\n",
      "\n"
     ]
    },
    {
     "name": "stderr",
     "output_type": "stream",
     "text": [
      "[Parallel(n_jobs=-2)]: Done  72 out of  72 | elapsed:  3.1min finished\n"
     ]
    }
   ],
   "source": [
    "# -*- coding: utf-8 -*-\n",
    "\"\"\"\n",
    "Created on Mon Mar 11 13:07:31 2024\n",
    "\n",
    "@author: unfer\n",
    "\"\"\"\n",
    "\n",
    "import numpy as np\n",
    "import pandas as pd\n",
    "from datetime import datetime, timedelta ###CHANGE added timedelta\n",
    "from lognormal_fit_multiprocessing_unfer_modified_TOL import Main as logf ###CHANGE lognormal_fit_multiprocessing_unfer -> lognormal_fit_multiprocessing_unfer_modified\n",
    "from multiprocessing import Process\n",
    "\n",
    "path1 = r\"/Users/touqeergill/Desktop/3-Sectors Data.csv\"\n",
    "dados1 = pd.read_csv(path1, sep=',',engine='python') \n",
    "df1 = pd.DataFrame(dados1)\n",
    "diameters_str = list(df1.columns[1:]) ### save diameters before replacing them with new column names\n",
    "\n",
    "df1.index = df1['TimeOverLandBin']\n",
    "df1 = df1.drop(['TimeOverLandBin'], axis=1)\n",
    "\n",
    "df1.columns = pd.to_numeric(diameters_str) ### df1.columns -> diameters_str\n",
    "df1.columns = df1.columns * 10 ** 9 ### change units from m to nm\n",
    "\n",
    "### limit diameter\n",
    "df1[df1.columns[df1.columns < 6]] = np.nan ### diameters <6nm to nan values\n",
    "#df1.dropna(axis=1, inplace=True) ### drop columns with diameters <6nm\n",
    "df1.drop(df1.columns[[0,1,2,3]], axis=1, inplace=True)\n",
    "\n",
    "#####################################################################\n",
    "\n",
    "\n",
    "year = \"2017-2022\"\n",
    "month = \"Jan-Dec\"\n",
    "dataframe = df1\n",
    "main_instance = logf(dataframe, year, month)\n",
    "        \n"
   ]
  },
  {
   "cell_type": "code",
   "execution_count": 7,
   "id": "64e49acd",
   "metadata": {},
   "outputs": [
    {
     "name": "stdout",
     "output_type": "stream",
     "text": [
      "init Main\n",
      "Jan-Dec 2017-2022\n",
      "no. of tasks,  91\n"
     ]
    },
    {
     "name": "stderr",
     "output_type": "stream",
     "text": [
      "[Parallel(n_jobs=-2)]: Using backend MultiprocessingBackend with 7 concurrent workers.\n",
      "[Parallel(n_jobs=-2)]: Done  18 tasks      | elapsed:   49.9s\n"
     ]
    },
    {
     "name": "stdout",
     "output_type": "stream",
     "text": [
      "                   m1_A   m1_d   m1_s     m2_A       m2_d   m2_s     m3_A  \\\n",
      "Timestamp (UTC)                                                             \n",
      "7                   NaN    NaN  1.381   928.80  42.790000  1.511    26.40   \n",
      "8                2800.6  13.48  1.661  1259.80  49.000000  1.307   497.20   \n",
      "9                2551.6  10.19  1.741  1599.40  39.220000  1.478   196.40   \n",
      "10               3478.7   8.66  1.696  2316.20  45.420000  1.685    45.80   \n",
      "11               1593.4  11.84  1.980  2690.00  49.240000  1.649   201.40   \n",
      "...                 ...    ...    ...      ...        ...    ...      ...   \n",
      "92                  NaN    NaN  1.598   422.80  27.540000  1.576  1721.10   \n",
      "93                  NaN    NaN  1.620   304.50  29.240000  1.527  1256.30   \n",
      "94                  NaN    NaN  1.820  1128.40  47.340000  1.661   392.70   \n",
      "95                  NaN    NaN  1.780  1080.70  49.400000  1.647   276.90   \n",
      "96                  NaN    NaN  1.800  1311.09  45.741573  1.703   449.99   \n",
      "\n",
      "                  m3_d   m3_s   m4_A        m4_d   m4_s     R2    PE  flag  \n",
      "Timestamp (UTC)                                                             \n",
      "7                94.00  1.100  331.4  138.130000  1.311  0.934  5.49   NaN  \n",
      "8                76.40  1.231  387.8  156.190000  1.454  0.992  0.53   NaN  \n",
      "9                80.32  1.250  214.1  169.230000  1.381  0.993  1.30   NaN  \n",
      "10               62.40  1.142  160.9  175.250000  1.381  0.994  1.94   NaN  \n",
      "11               45.00  1.620  356.9  158.190000  1.552  0.976  6.87   NaN  \n",
      "...                ...    ...    ...         ...    ...    ...   ...   ...  \n",
      "92               80.71  1.784  815.7  189.300000  1.446  0.977  2.01   NaN  \n",
      "93               72.75  1.768  701.0  188.290000  1.503  0.970  4.69   NaN  \n",
      "94               94.00  1.386  796.1  191.300000  1.478  0.993  1.03   NaN  \n",
      "95               89.30  1.381  778.4  190.300000  1.478  0.982  2.19   NaN  \n",
      "96               94.00  1.317  803.7  188.294314  1.462  0.974  4.80   NaN  \n",
      "\n",
      "[90 rows x 15 columns]\n",
      "\n",
      "********* FINISHED *********\n",
      "Total time taken: 0:03:48.457011\n",
      "****************************\n",
      "\n"
     ]
    },
    {
     "name": "stderr",
     "output_type": "stream",
     "text": [
      "[Parallel(n_jobs=-2)]: Done  90 out of  90 | elapsed:  3.8min finished\n"
     ]
    }
   ],
   "source": [
    "# -*- coding: utf-8 -*-\n",
    "\"\"\"\n",
    "Created on Mon Mar 11 13:07:31 2024\n",
    "\n",
    "@author: unfer\n",
    "\"\"\"\n",
    "\n",
    "import numpy as np\n",
    "import pandas as pd\n",
    "from datetime import datetime, timedelta ###CHANGE added timedelta\n",
    "from lognormal_fit_multiprocessing_unfer_modified_TOL import Main as logf ###CHANGE lognormal_fit_multiprocessing_unfer -> lognormal_fit_multiprocessing_unfer_modified\n",
    "from multiprocessing import Process\n",
    "\n",
    "path1 = r\"/Users/touqeergill/Desktop/4-Sectors Data.csv\"\n",
    "dados1 = pd.read_csv(path1, sep=',',engine='python') \n",
    "df1 = pd.DataFrame(dados1)\n",
    "diameters_str = list(df1.columns[1:]) ### save diameters before replacing them with new column names\n",
    "\n",
    "df1.index = df1['TimeOverLandBin']\n",
    "df1 = df1.drop(['TimeOverLandBin'], axis=1)\n",
    "\n",
    "df1.columns = pd.to_numeric(diameters_str) ### df1.columns -> diameters_str\n",
    "df1.columns = df1.columns * 10 ** 9 ### change units from m to nm\n",
    "\n",
    "### limit diameter\n",
    "df1[df1.columns[df1.columns < 6]] = np.nan ### diameters <6nm to nan values\n",
    "#df1.dropna(axis=1, inplace=True) ### drop columns with diameters <6nm\n",
    "df1.drop(df1.columns[[0,1,2,3]], axis=1, inplace=True)\n",
    "\n",
    "#####################################################################\n",
    "\n",
    "\n",
    "year = \"2017-2022\"\n",
    "month = \"Jan-Dec\"\n",
    "dataframe = df1\n",
    "main_instance = logf(dataframe, year, month)\n",
    "        \n"
   ]
  },
  {
   "cell_type": "code",
   "execution_count": null,
   "id": "5d8cc40c",
   "metadata": {},
   "outputs": [],
   "source": []
  }
 ],
 "metadata": {
  "kernelspec": {
   "display_name": "Python 3 (ipykernel)",
   "language": "python",
   "name": "python3"
  },
  "language_info": {
   "codemirror_mode": {
    "name": "ipython",
    "version": 3
   },
   "file_extension": ".py",
   "mimetype": "text/x-python",
   "name": "python",
   "nbconvert_exporter": "python",
   "pygments_lexer": "ipython3",
   "version": "3.9.13"
  }
 },
 "nbformat": 4,
 "nbformat_minor": 5
}
